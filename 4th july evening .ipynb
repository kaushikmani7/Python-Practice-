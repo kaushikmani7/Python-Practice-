{
 "cells": [
  {
   "cell_type": "code",
   "execution_count": 1,
   "id": "dffef85a",
   "metadata": {},
   "outputs": [
    {
     "name": "stdout",
     "output_type": "stream",
     "text": [
      "hello world\n"
     ]
    }
   ],
   "source": [
    "print ('hello world')\n"
   ]
  },
  {
   "cell_type": "code",
   "execution_count": 2,
   "id": "90eb4372",
   "metadata": {},
   "outputs": [
    {
     "name": "stdout",
     "output_type": "stream",
     "text": [
      "hello world    \n"
     ]
    }
   ],
   "source": [
    "print (\"hello world\")"
   ]
  },
  {
   "cell_type": "code",
   "execution_count": 10,
   "id": "cc0e29b1",
   "metadata": {},
   "outputs": [
    {
     "name": "stdout",
     "output_type": "stream",
     "text": [
      "ram's book\n"
     ]
    }
   ],
   "source": [
    "print (\"ram's book\")"
   ]
  },
  {
   "cell_type": "code",
   "execution_count": 6,
   "id": "8145f3fe",
   "metadata": {},
   "outputs": [
    {
     "name": "stdout",
     "output_type": "stream",
     "text": [
      "26\n"
     ]
    }
   ],
   "source": [
    "#int +,-(0-9) combination \n",
    "#float work exactly like integer but also added decimal \n",
    "#string \n",
    "#bool\n",
    "#complex\n",
    "\n",
    "x=12\n",
    "y=14 \n",
    "print (x+y)"
   ]
  },
  {
   "cell_type": "code",
   "execution_count": 9,
   "id": "b4be085f",
   "metadata": {},
   "outputs": [
    {
     "data": {
      "text/plain": [
       "int"
      ]
     },
     "execution_count": 9,
     "metadata": {},
     "output_type": "execute_result"
    }
   ],
   "source": [
    "type (x)"
   ]
  },
  {
   "cell_type": "code",
   "execution_count": 11,
   "id": "f171fdcc",
   "metadata": {},
   "outputs": [
    {
     "data": {
      "text/plain": [
       "int"
      ]
     },
     "execution_count": 11,
     "metadata": {},
     "output_type": "execute_result"
    }
   ],
   "source": [
    "type (y)\n"
   ]
  },
  {
   "cell_type": "code",
   "execution_count": 12,
   "id": "2dd1c971",
   "metadata": {},
   "outputs": [
    {
     "name": "stdout",
     "output_type": "stream",
     "text": [
      "23.45\n"
     ]
    }
   ],
   "source": [
    "a = 23.45\n",
    "print (a)\n"
   ]
  },
  {
   "cell_type": "code",
   "execution_count": 13,
   "id": "c1e93d0e",
   "metadata": {},
   "outputs": [
    {
     "data": {
      "text/plain": [
       "float"
      ]
     },
     "execution_count": 13,
     "metadata": {},
     "output_type": "execute_result"
    }
   ],
   "source": [
    "type (a)"
   ]
  },
  {
   "cell_type": "code",
   "execution_count": 16,
   "id": "068869f8",
   "metadata": {},
   "outputs": [
    {
     "name": "stdout",
     "output_type": "stream",
     "text": [
      "123\n"
     ]
    }
   ],
   "source": [
    "#string \n",
    "a = 123\n",
    "print (a)"
   ]
  },
  {
   "cell_type": "code",
   "execution_count": 15,
   "id": "8a39e14b",
   "metadata": {},
   "outputs": [
    {
     "data": {
      "text/plain": [
       "int"
      ]
     },
     "execution_count": 15,
     "metadata": {},
     "output_type": "execute_result"
    }
   ],
   "source": [
    "type (a)"
   ]
  },
  {
   "cell_type": "code",
   "execution_count": 17,
   "id": "56385e9d",
   "metadata": {},
   "outputs": [
    {
     "name": "stdout",
     "output_type": "stream",
     "text": [
      "123\n"
     ]
    }
   ],
   "source": [
    "a='123'\n",
    "print (a)\n",
    "\n",
    "    "
   ]
  },
  {
   "cell_type": "code",
   "execution_count": 18,
   "id": "967d0313",
   "metadata": {},
   "outputs": [
    {
     "data": {
      "text/plain": [
       "str"
      ]
     },
     "execution_count": 18,
     "metadata": {},
     "output_type": "execute_result"
    }
   ],
   "source": [
    "type (a\n",
    "     )"
   ]
  },
  {
   "cell_type": "code",
   "execution_count": 19,
   "id": "a9515ab7",
   "metadata": {},
   "outputs": [
    {
     "name": "stdout",
     "output_type": "stream",
     "text": [
      "59\n"
     ]
    }
   ],
   "source": [
    "#wap to add two numbers. \n",
    "a=24\n",
    "b=35\n",
    "c=a+b\n",
    "print(c)"
   ]
  },
  {
   "cell_type": "code",
   "execution_count": null,
   "id": "f51ba012",
   "metadata": {},
   "outputs": [],
   "source": [
    "#wap to swap two numbers \n",
    "#1 with the help of 3rd variable.\n",
    "#2. without 3rd variable\n"
   ]
  }
 ],
 "metadata": {
  "kernelspec": {
   "display_name": "Python 3 (ipykernel)",
   "language": "python",
   "name": "python3"
  },
  "language_info": {
   "codemirror_mode": {
    "name": "ipython",
    "version": 3
   },
   "file_extension": ".py",
   "mimetype": "text/x-python",
   "name": "python",
   "nbconvert_exporter": "python",
   "pygments_lexer": "ipython3",
   "version": "3.9.12"
  }
 },
 "nbformat": 4,
 "nbformat_minor": 5
}
