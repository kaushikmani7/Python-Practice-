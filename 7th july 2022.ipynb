{
 "cells": [
  {
   "cell_type": "code",
   "execution_count": 5,
   "id": "7c026a52",
   "metadata": {},
   "outputs": [
    {
     "name": "stdout",
     "output_type": "stream",
     "text": [
      "cost of the bike5000\n",
      "5250.0\n"
     ]
    }
   ],
   "source": [
    "a=int(input(\"cost of the bike\"))\n",
    "if a>100000:\n",
    "    print (a+0.15*a)\n",
    "elif a>50000 and a<=100000:\n",
    "     print (a+0.10*a)\n",
    "elif a<=50000:\n",
    "    print (a+0.05*a)\n",
    "    "
   ]
  },
  {
   "cell_type": "code",
   "execution_count": 16,
   "id": "450b949a",
   "metadata": {},
   "outputs": [
    {
     "name": "stdout",
     "output_type": "stream",
     "text": [
      "units consumed85\n",
      "no charge\n"
     ]
    }
   ],
   "source": [
    "# write a program to calculate the elctricity bill (accept number of unit from user) according to the follwing criteria:\n",
    "# unit \n",
    "#first 100 units                                                            no charge\n",
    "#next 100 units                                                               rs 5 per unit \n",
    "#next 200 units                                                              Rs 10 per unit \n",
    "\n",
    "\n",
    "\n",
    "x=int(input(\"units consumed\"))\n",
    "if x<=100:\n",
    "    print (\"no charge\")\n",
    "elif x>100 and x<=200:\n",
    "    print ((x-100)*5)\n",
    "elif x>200:\n",
    "    print ((x-200)*10+500)\n",
    "    \n",
    "    "
   ]
  }
 ],
 "metadata": {
  "kernelspec": {
   "display_name": "Python 3 (ipykernel)",
   "language": "python",
   "name": "python3"
  },
  "language_info": {
   "codemirror_mode": {
    "name": "ipython",
    "version": 3
   },
   "file_extension": ".py",
   "mimetype": "text/x-python",
   "name": "python",
   "nbconvert_exporter": "python",
   "pygments_lexer": "ipython3",
   "version": "3.9.12"
  }
 },
 "nbformat": 4,
 "nbformat_minor": 5
}
