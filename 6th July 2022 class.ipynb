{
 "cells": [
  {
   "cell_type": "code",
   "execution_count": 1,
   "id": "7eef2462",
   "metadata": {},
   "outputs": [
    {
     "name": "stdout",
     "output_type": "stream",
     "text": [
      "enter the number of yesrs of service8\n",
      "salary of the employee7\n",
      "7.35\n"
     ]
    }
   ],
   "source": [
    "x=int(input(\"enter the number of yesrs of service\"))\n",
    "y=int(input(\"salary of the employee\"))\n",
    "if x>5:\n",
    "    print (y+0.05*y)\n",
    "else:\n",
    "    print (\"no bonus\")\n",
    "    \n",
    "    "
   ]
  },
  {
   "cell_type": "code",
   "execution_count": 2,
   "id": "c85d9c0d",
   "metadata": {},
   "outputs": [
    {
     "name": "stdout",
     "output_type": "stream",
     "text": [
      "side of the quadilateral78\n",
      "2nd side of the quadrilateral78\n",
      "square\n",
      "6084\n"
     ]
    }
   ],
   "source": [
    "#take the values of length and breath of rectangle\n",
    "#from user and check if ots a square or not. \n",
    "\n",
    "a=int(input(\"side of the quadilateral\"))\n",
    "b=int(input(\"2nd side of the quadrilateral\"))\n",
    "if a==b:\n",
    "      print ('square')\n",
    "      print (a*b)\n",
    "else:\n",
    "      print ('rectangle')\n",
    "      print (a*b)\n",
    "      \n"
   ]
  },
  {
   "cell_type": "code",
   "execution_count": 5,
   "id": "43490583",
   "metadata": {},
   "outputs": [
    {
     "name": "stdout",
     "output_type": "stream",
     "text": [
      "enter the marks obtained55\n",
      "grade obtained C\n"
     ]
    }
   ],
   "source": [
    "#A school has following rules for a grading system:\n",
    "#a. Below 25-F\n",
    "#b. 25 to 45- E\n",
    "#c. 45 to 50 - D\n",
    "#d. 50 to 60 - C\n",
    "#e. 60 to 80 - B\n",
    "#f. above 80 - A\n",
    "# ask the user to enter marks and, print the corresponding grade. \n",
    "\n",
    "a=int(input(\"enter the marks obtained\"))\n",
    "\n",
    "if a>80:\n",
    "    print ('grade Obtained A')\n",
    "elif a>60 and a<=80:\n",
    "    print ('grade obatined B')\n",
    "elif a>50 and a<=60:\n",
    "    print ('grade obtained C')\n",
    "elif a>45 and a<=50:\n",
    "    print ('grade obatined D')\n",
    "elif a>25 and a<=45:\n",
    "    print ('grade obtained E')\n",
    "elif a<25:\n",
    "    print ('grade obtained F')\n",
    "    "
   ]
  },
  {
   "cell_type": "code",
   "execution_count": 6,
   "id": "c471bf4f",
   "metadata": {},
   "outputs": [
    {
     "name": "stdout",
     "output_type": "stream",
     "text": [
      "fizz\n"
     ]
    }
   ],
   "source": [
    "#wap to print fizz and buzz where the condition is if the number is \n",
    "#divisible by 3 print fizz but the number is divisibe by 5 then print buzz\n",
    "#and if the number is divisible by both 3 &2 but not by 5.\n",
    "\n",
    "num=60 \n",
    "if num%3 == 0 and num% 2==0 and num% 5!=0:\n",
    "    print(\"fizz buzz\")\n",
    "elif num % 3==0:\n",
    "    print ('fizz')\n",
    "elif num%5==0:\n",
    "    print(\"buzz\")\n",
    "    "
   ]
  },
  {
   "cell_type": "code",
   "execution_count": 10,
   "id": "8ae23bbd",
   "metadata": {},
   "outputs": [
    {
     "name": "stdout",
     "output_type": "stream",
     "text": [
      "number of classes held45\n",
      "number of classes attended26\n",
      "57.77777777777777\n",
      "not allowed to sit in exam\n"
     ]
    }
   ],
   "source": [
    "#A student will not be allowed to sit in exam\n",
    "# if his/her attendance is less than 75%\n",
    "#take the following input from the user\n",
    "# Number of classes held \n",
    "#number of classes attended \n",
    "#and print \n",
    "#percentage of class attended \n",
    "#is Student is allowed to sit in exam or not\n",
    "\n",
    "\n",
    "a= int(input('number of classes held'))\n",
    "b= int (input('number of classes attended'))\n",
    "c= (b/a)*100\n",
    "print (c)\n",
    "if c>=75 :\n",
    "    print (\" allowed to sit in exam \")\n",
    "else:\n",
    "    print (\"not allowed to sit in exam\")"
   ]
  },
  {
   "cell_type": "code",
   "execution_count": 22,
   "id": "55c059f1",
   "metadata": {},
   "outputs": [
    {
     "name": "stdout",
     "output_type": "stream",
     "text": [
      "input a number6\n",
      "you won\n"
     ]
    }
   ],
   "source": [
    "#wap to guess the number from range 1-10. your winning number is 6.\n",
    "x= int(input('input a number'))\n",
    "if x==6:\n",
    "    print (\"you won\")\n",
    "elif x<6:\n",
    "    print (\"go higher\")\n",
    "elif x>6:\n",
    "    print (\"go lower\")"
   ]
  }
 ],
 "metadata": {
  "kernelspec": {
   "display_name": "Python 3 (ipykernel)",
   "language": "python",
   "name": "python3"
  },
  "language_info": {
   "codemirror_mode": {
    "name": "ipython",
    "version": 3
   },
   "file_extension": ".py",
   "mimetype": "text/x-python",
   "name": "python",
   "nbconvert_exporter": "python",
   "pygments_lexer": "ipython3",
   "version": "3.9.12"
  }
 },
 "nbformat": 4,
 "nbformat_minor": 5
}
