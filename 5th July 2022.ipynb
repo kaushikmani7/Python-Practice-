{
 "cells": [
  {
   "cell_type": "code",
   "execution_count": 2,
   "id": "60154905",
   "metadata": {},
   "outputs": [
    {
     "name": "stdout",
     "output_type": "stream",
     "text": [
      "2\n"
     ]
    }
   ],
   "source": [
    "a=2\n",
    "print (a)\n"
   ]
  },
  {
   "cell_type": "code",
   "execution_count": 3,
   "id": "742fe75b",
   "metadata": {},
   "outputs": [
    {
     "name": "stdout",
     "output_type": "stream",
     "text": [
      "3\n"
     ]
    }
   ],
   "source": [
    "b=3\n",
    "print (b)\n"
   ]
  },
  {
   "cell_type": "code",
   "execution_count": 4,
   "id": "27a3a53c",
   "metadata": {},
   "outputs": [
    {
     "name": "stdout",
     "output_type": "stream",
     "text": [
      "3 2\n"
     ]
    }
   ],
   "source": [
    "a,b=2,3\n",
    "a,b=b,a\n",
    "print(a,b)\n"
   ]
  },
  {
   "cell_type": "code",
   "execution_count": 6,
   "id": "3f5405c4",
   "metadata": {},
   "outputs": [
    {
     "name": "stdout",
     "output_type": "stream",
     "text": [
      "enter somethinghell is here \n",
      "hell is here \n"
     ]
    }
   ],
   "source": [
    "#user input----\n",
    "x=input (\"enter something\")\n",
    "print (x)\n"
   ]
  },
  {
   "cell_type": "code",
   "execution_count": 13,
   "id": "d3eb0df7",
   "metadata": {},
   "outputs": [
    {
     "name": "stdout",
     "output_type": "stream",
     "text": [
      "enter the first number45\n",
      "enter the second number45\n",
      "90\n"
     ]
    }
   ],
   "source": [
    "#wap to add two numbers withthe help of user input!!\n",
    "a=int(input  (\"enter the first number\"))\n",
    "b=int( input  ('enter the second number'))\n",
    "c= (a+b)\n",
    "print (c)\n"
   ]
  },
  {
   "cell_type": "markdown",
   "id": "7c270d29",
   "metadata": {},
   "source": [
    "#concatenate \n",
    "x='6\"\n",
    "y='5'\n",
    "z=x+y\n",
    "print (z)\n"
   ]
  },
  {
   "cell_type": "code",
   "execution_count": 17,
   "id": "6244aafe",
   "metadata": {},
   "outputs": [
    {
     "name": "stdout",
     "output_type": "stream",
     "text": [
      "enter the first number-6\n",
      "enter the second number-35\n",
      "-41.0\n"
     ]
    }
   ],
   "source": [
    "a=int(input  (\"enter the first number\"))\n",
    "b=float ( input  ('enter the second number'))\n",
    "c= (a+b)\n",
    "print (c)"
   ]
  },
  {
   "cell_type": "code",
   "execution_count": 18,
   "id": "aaed67e8",
   "metadata": {},
   "outputs": [
    {
     "name": "stdout",
     "output_type": "stream",
     "text": [
      "enter the first number5\n",
      "enter the second number65\n"
     ]
    },
    {
     "ename": "TypeError",
     "evalue": "unsupported operand type(s) for +: 'int' and 'str'",
     "output_type": "error",
     "traceback": [
      "\u001b[1;31m---------------------------------------------------------------------------\u001b[0m",
      "\u001b[1;31mTypeError\u001b[0m                                 Traceback (most recent call last)",
      "Input \u001b[1;32mIn [18]\u001b[0m, in \u001b[0;36m<cell line: 3>\u001b[1;34m()\u001b[0m\n\u001b[0;32m      1\u001b[0m a\u001b[38;5;241m=\u001b[39m\u001b[38;5;28mint\u001b[39m(\u001b[38;5;28minput\u001b[39m  (\u001b[38;5;124m\"\u001b[39m\u001b[38;5;124menter the first number\u001b[39m\u001b[38;5;124m\"\u001b[39m))\n\u001b[0;32m      2\u001b[0m b\u001b[38;5;241m=\u001b[39m( \u001b[38;5;28minput\u001b[39m  (\u001b[38;5;124m'\u001b[39m\u001b[38;5;124menter the second number\u001b[39m\u001b[38;5;124m'\u001b[39m))\n\u001b[1;32m----> 3\u001b[0m c\u001b[38;5;241m=\u001b[39m (\u001b[43ma\u001b[49m\u001b[38;5;241;43m+\u001b[39;49m\u001b[43mb\u001b[49m)\n\u001b[0;32m      4\u001b[0m \u001b[38;5;28mprint\u001b[39m (c)\n",
      "\u001b[1;31mTypeError\u001b[0m: unsupported operand type(s) for +: 'int' and 'str'"
     ]
    }
   ],
   "source": [
    "a=int(input  (\"enter the first number\"))\n",
    "b=( input  ('enter the second number'))\n",
    "c= (a+b)\n",
    "print (c)"
   ]
  },
  {
   "cell_type": "code",
   "execution_count": 19,
   "id": "d6c542e1",
   "metadata": {},
   "outputs": [
    {
     "ename": "SyntaxError",
     "evalue": "invalid syntax (2114250447.py, line 12)",
     "output_type": "error",
     "traceback": [
      "\u001b[1;36m  Input \u001b[1;32mIn [19]\u001b[1;36m\u001b[0m\n\u001b[1;33m    print (you can vote)\u001b[0m\n\u001b[1;37m               ^\u001b[0m\n\u001b[1;31mSyntaxError\u001b[0m\u001b[1;31m:\u001b[0m invalid syntax\n"
     ]
    }
   ],
   "source": [
    "# # conditions\n",
    "# age-----> 18+-------> you can vote \n",
    "\n",
    "#syntax----->\n",
    " # if condtion:\n",
    "    #   print the msg\n",
    " #else\n",
    "#  print the msg\n",
    "\n",
    "age=35\n",
    "if age>18:\n",
    "    print (you can vote)\n",
    "else:\n",
    "    print (\"chot bachi ho kya\")\n",
    "    \n",
    "    \n",
    "    \n",
    "  \n",
    " \n"
   ]
  },
  {
   "cell_type": "code",
   "execution_count": 41,
   "id": "46d4a484",
   "metadata": {},
   "outputs": [
    {
     "name": "stdout",
     "output_type": "stream",
     "text": [
      "teenager\n"
     ]
    }
   ],
   "source": [
    "age=18\n",
    "if age>18:\n",
    "    print (\"you can vote\")\n",
    "elif age==18:\n",
    "    print (\"teenager\")\n",
    "else:\n",
    "    print (\"choti bachi ho kya\")\n",
    "    "
   ]
  },
  {
   "cell_type": "code",
   "execution_count": 42,
   "id": "edb1cfd9",
   "metadata": {},
   "outputs": [
    {
     "name": "stdout",
     "output_type": "stream",
     "text": [
      "enter the age15\n",
      "choti bachi ho kya\n"
     ]
    }
   ],
   "source": [
    "age=int(input(\"enter the age\"))\n",
    "if age>18:\n",
    "    print (\"you can vote\")\n",
    "elif age==18:\n",
    "    print (\"teenager\")\n",
    "else:\n",
    "    print (\"choti bachi ho kya\")\n",
    "    "
   ]
  },
  {
   "cell_type": "code",
   "execution_count": 45,
   "id": "fcae38d0",
   "metadata": {},
   "outputs": [
    {
     "name": "stdout",
     "output_type": "stream",
     "text": [
      "enter a number45\n",
      "odd\n"
     ]
    }
   ],
   "source": [
    "#wap to find a number is even or odd. \n",
    "#wap find the max two numbers.\n",
    "#wap find the max three numbers. \n",
    "\n",
    "x=int(input(\"enter a number\"))\n",
    "if x%2 ==0:\n",
    "    print(\"even\")\n",
    "else:\n",
    "    print(\"odd\")\n",
    "    "
   ]
  },
  {
   "cell_type": "code",
   "execution_count": 48,
   "id": "d0eaa3d3",
   "metadata": {},
   "outputs": [
    {
     "name": "stdout",
     "output_type": "stream",
     "text": [
      "even number\n"
     ]
    }
   ],
   "source": [
    "x=8\n",
    "if x%2!=0:\n",
    "    print(\"odd number\")\n",
    "else:\n",
    "    print (\"even number\")\n",
    "    "
   ]
  },
  {
   "cell_type": "code",
   "execution_count": 50,
   "id": "c675578d",
   "metadata": {},
   "outputs": [
    {
     "name": "stdout",
     "output_type": "stream",
     "text": [
      "B is greater\n"
     ]
    }
   ],
   "source": [
    "#wap find the max two numbers\n",
    "a=7 \n",
    "b=56\n",
    "if a>b:\n",
    "    print(\"A\")\n",
    "else:\n",
    "    print (\"B is greater\")\n",
    "    "
   ]
  },
  {
   "cell_type": "code",
   "execution_count": 59,
   "id": "fac77cb4",
   "metadata": {},
   "outputs": [
    {
     "name": "stdout",
     "output_type": "stream",
     "text": [
      "enter a number56\n",
      "enter a number6000\n",
      "enter a number8000\n",
      "c is greater\n"
     ]
    }
   ],
   "source": [
    "#wap find the max three numbers. \n",
    "a=int(input(\"enter a number\"))\n",
    "b=int(input(\"enter a number\"))\n",
    "c=int(input(\"enter a number\"))\n",
    "if a>b and a>c:\n",
    "    print (\"a is greater\")\n",
    "elif b>a and b>c:\n",
    "    print (\"b is greater\")\n",
    "elif  c>a and c>b:\n",
    "    print (\"c is greater\")"
   ]
  },
  {
   "cell_type": "code",
   "execution_count": 62,
   "id": "17f408eb",
   "metadata": {},
   "outputs": [
    {
     "name": "stdout",
     "output_type": "stream",
     "text": [
      "enter number of year of service4\n",
      "enter your salary56600\n",
      "no bonus\n"
     ]
    }
   ],
   "source": [
    "#A company decide to give bonus of 5% to employee \n",
    "#if his/her year of service is more than 5 years.\n",
    "#and year of service and print the net bonus amount.\n",
    "\n",
    "x=int(input(\"enter number of year of service\"))\n",
    "y=int (input ( \"enter your salary\"))\n",
    "if x>5:\n",
    "    print (y+0.05*y)\n",
    "else:\n",
    "    print (\"no bonus\")\n",
    "    "
   ]
  }
 ],
 "metadata": {
  "kernelspec": {
   "display_name": "Python 3 (ipykernel)",
   "language": "python",
   "name": "python3"
  },
  "language_info": {
   "codemirror_mode": {
    "name": "ipython",
    "version": 3
   },
   "file_extension": ".py",
   "mimetype": "text/x-python",
   "name": "python",
   "nbconvert_exporter": "python",
   "pygments_lexer": "ipython3",
   "version": "3.9.12"
  }
 },
 "nbformat": 4,
 "nbformat_minor": 5
}
